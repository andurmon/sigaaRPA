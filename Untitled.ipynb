{
 "cells": [
  {
   "cell_type": "markdown",
   "metadata": {},
   "source": [
    "# RPA with PyAutoGUI\n",
    "<h1>PERRRRO</h1>\n",
    "Esta funcioun hace tal cosa jhafikhsadkfausglaisug"
   ]
  },
  {
   "cell_type": "code",
   "execution_count": 5,
   "metadata": {},
   "outputs": [],
   "source": [
    "import pyautogui as rpa\n",
    "import webbrowser as wb\n",
    "sigaaPath = 'https://sso.upb.edu.co/authenticationendpoint/login.do?Name=PreLoginRequestProcessor&commonAuthCallerPath=%252Fcas%252Flogin&forceAuth=true&passiveAuth=false&service=https%3A%2F%2Fsigaa.upb.edu.co%3A443%2Fssomanager%2Fc%2FSSB&tenantDomain=carbon.super&sessionDataKey=3b5f5a98-3367-43d3-95e9-ad75057ba136&relyingParty=ssb-banpdn&type=cas&sp=ssb-banpdn&isSaaSApp=false&authenticators=BasicAuthenticator:LOCAL'\n",
    "sigaaPath2 = 'https://sigaa.upb.edu.co/ssomanager/c/SSB'\n",
    "user = '000290164'\n",
    "password = 'Tandres1997_'"
   ]
  },
  {
   "cell_type": "code",
   "execution_count": 6,
   "metadata": {},
   "outputs": [
    {
     "output_type": "execute_result",
     "data": {
      "text/plain": "True"
     },
     "metadata": {},
     "execution_count": 6
    }
   ],
   "source": [
    "wb.open(sigaaPath2)"
   ]
  },
  {
   "cell_type": "code",
   "execution_count": 24,
   "metadata": {},
   "outputs": [
    {
     "data": {
      "text/plain": [
       "True"
      ]
     },
     "execution_count": 24,
     "metadata": {},
     "output_type": "execute_result"
    }
   ],
   "source": [
    "import requests\n",
    "from bs4 import BeautifulSoup\n",
    "import webbrowser as wb\n",
    "from selenium import webdriver\n",
    "wb.open('https://sigaa.upb.edu.co/BANPDN/bzsksmrk.p_write_grade_detail?term_in=202010&crn_in=76435&calling_proc_in=bzskmgrd.p_write_midterm_grades')"
   ]
  },
  {
   "cell_type": "code",
   "execution_count": 22,
   "metadata": {},
   "outputs": [
    {
     "output_type": "execute_result",
     "data": {
      "text/plain": "            Título  Puntaje  Calificación Debe Aprobar  Peso  \\\n0  NOTA 1 - PRE CI        5           5.0            Y    20   \n1  NOTA 2 - INF CI        5           5.0            Y    10   \n2  NOTA 3 - DES CI        5           5.0            Y    20   \n3  NOTA 4 - PRE EP        5           5.0            Y    20   \n4  NOTA 5 - INF EP        5           5.0            Y    10   \n5  NOTA 6 - DES EP        5           5.0            Y    20   \n\n  Incluir enParcial o Final Subcomponentes  \n0                     Final        Ninguno  \n1                     Final        Ninguno  \n2                     Final        Ninguno  \n3                     Final        Ninguno  \n4                     Final        Ninguno  \n5                     Final        Ninguno  ",
      "text/html": "<div>\n<style scoped>\n    .dataframe tbody tr th:only-of-type {\n        vertical-align: middle;\n    }\n\n    .dataframe tbody tr th {\n        vertical-align: top;\n    }\n\n    .dataframe thead th {\n        text-align: right;\n    }\n</style>\n<table border=\"1\" class=\"dataframe\">\n  <thead>\n    <tr style=\"text-align: right;\">\n      <th></th>\n      <th>Título</th>\n      <th>Puntaje</th>\n      <th>Calificación</th>\n      <th>Debe Aprobar</th>\n      <th>Peso</th>\n      <th>Incluir enParcial o Final</th>\n      <th>Subcomponentes</th>\n    </tr>\n  </thead>\n  <tbody>\n    <tr>\n      <td>0</td>\n      <td>NOTA 1 - PRE CI</td>\n      <td>5</td>\n      <td>5.0</td>\n      <td>Y</td>\n      <td>20</td>\n      <td>Final</td>\n      <td>Ninguno</td>\n    </tr>\n    <tr>\n      <td>1</td>\n      <td>NOTA 2 - INF CI</td>\n      <td>5</td>\n      <td>5.0</td>\n      <td>Y</td>\n      <td>10</td>\n      <td>Final</td>\n      <td>Ninguno</td>\n    </tr>\n    <tr>\n      <td>2</td>\n      <td>NOTA 3 - DES CI</td>\n      <td>5</td>\n      <td>5.0</td>\n      <td>Y</td>\n      <td>20</td>\n      <td>Final</td>\n      <td>Ninguno</td>\n    </tr>\n    <tr>\n      <td>3</td>\n      <td>NOTA 4 - PRE EP</td>\n      <td>5</td>\n      <td>5.0</td>\n      <td>Y</td>\n      <td>20</td>\n      <td>Final</td>\n      <td>Ninguno</td>\n    </tr>\n    <tr>\n      <td>4</td>\n      <td>NOTA 5 - INF EP</td>\n      <td>5</td>\n      <td>5.0</td>\n      <td>Y</td>\n      <td>10</td>\n      <td>Final</td>\n      <td>Ninguno</td>\n    </tr>\n    <tr>\n      <td>5</td>\n      <td>NOTA 6 - DES EP</td>\n      <td>5</td>\n      <td>5.0</td>\n      <td>Y</td>\n      <td>20</td>\n      <td>Final</td>\n      <td>Ninguno</td>\n    </tr>\n  </tbody>\n</table>\n</div>"
     },
     "metadata": {},
     "execution_count": 22
    }
   ],
   "source": [
    "import pandas as pd \n",
    "table2 = pd.read_csv('./csv/table2.csv')\n",
    "table2"
   ]
  },
  {
   "cell_type": "code",
   "execution_count": 24,
   "metadata": {
    "tags": []
   },
   "outputs": [
    {
     "output_type": "stream",
     "name": "stdout",
     "text": "5.0\n5.0\n4.5\n5.0\n5.0\n"
    }
   ],
   "source": [
    "table2 = pd.read_csv('./table2.csv')\n",
    "numNotas = table3['Calificación'].size\n",
    "for i in range(0,numNotas-1):\n",
    "    print(table2.at[i, 'Puntaje'])"
   ]
  },
  {
   "cell_type": "code",
   "execution_count": 25,
   "metadata": {},
   "outputs": [
    {
     "output_type": "execute_result",
     "data": {
      "text/plain": "            Título  Puntaje  Calificación Debe Aprobar  Peso  \\\n0  NOTA 1 - PRE CI        5           5.0            Y    20   \n1  NOTA 2 - INF CI        5           5.0            Y    10   \n2  NOTA 3 - DES CI        5           5.0            Y    20   \n3  NOTA 4 - PRE EP        5           5.0            Y    20   \n4  NOTA 5 - INF EP        5           5.0            Y    10   \n5  NOTA 6 - DES EP        5           5.0            Y    20   \n\n  Incluir enParcial o Final Subcomponentes  \n0                     Final        Ninguno  \n1                     Final        Ninguno  \n2                     Final        Ninguno  \n3                     Final        Ninguno  \n4                     Final        Ninguno  \n5                     Final        Ninguno  ",
      "text/html": "<div>\n<style scoped>\n    .dataframe tbody tr th:only-of-type {\n        vertical-align: middle;\n    }\n\n    .dataframe tbody tr th {\n        vertical-align: top;\n    }\n\n    .dataframe thead th {\n        text-align: right;\n    }\n</style>\n<table border=\"1\" class=\"dataframe\">\n  <thead>\n    <tr style=\"text-align: right;\">\n      <th></th>\n      <th>Título</th>\n      <th>Puntaje</th>\n      <th>Calificación</th>\n      <th>Debe Aprobar</th>\n      <th>Peso</th>\n      <th>Incluir enParcial o Final</th>\n      <th>Subcomponentes</th>\n    </tr>\n  </thead>\n  <tbody>\n    <tr>\n      <td>0</td>\n      <td>NOTA 1 - PRE CI</td>\n      <td>5</td>\n      <td>5.0</td>\n      <td>Y</td>\n      <td>20</td>\n      <td>Final</td>\n      <td>Ninguno</td>\n    </tr>\n    <tr>\n      <td>1</td>\n      <td>NOTA 2 - INF CI</td>\n      <td>5</td>\n      <td>5.0</td>\n      <td>Y</td>\n      <td>10</td>\n      <td>Final</td>\n      <td>Ninguno</td>\n    </tr>\n    <tr>\n      <td>2</td>\n      <td>NOTA 3 - DES CI</td>\n      <td>5</td>\n      <td>5.0</td>\n      <td>Y</td>\n      <td>20</td>\n      <td>Final</td>\n      <td>Ninguno</td>\n    </tr>\n    <tr>\n      <td>3</td>\n      <td>NOTA 4 - PRE EP</td>\n      <td>5</td>\n      <td>5.0</td>\n      <td>Y</td>\n      <td>20</td>\n      <td>Final</td>\n      <td>Ninguno</td>\n    </tr>\n    <tr>\n      <td>4</td>\n      <td>NOTA 5 - INF EP</td>\n      <td>5</td>\n      <td>5.0</td>\n      <td>Y</td>\n      <td>10</td>\n      <td>Final</td>\n      <td>Ninguno</td>\n    </tr>\n    <tr>\n      <td>5</td>\n      <td>NOTA 6 - DES EP</td>\n      <td>5</td>\n      <td>5.0</td>\n      <td>Y</td>\n      <td>20</td>\n      <td>Final</td>\n      <td>Ninguno</td>\n    </tr>\n  </tbody>\n</table>\n</div>"
     },
     "metadata": {},
     "execution_count": 25
    }
   ],
   "source": [
    "table3 = pd.read_csv('./csv/table3.csv')\n",
    "table3"
   ]
  },
  {
   "cell_type": "code",
   "execution_count": 26,
   "metadata": {
    "tags": []
   },
   "outputs": [
    {
     "output_type": "stream",
     "name": "stdout",
     "text": "0 5\n1 5\n2 5\n3 5\n4 5\n"
    }
   ],
   "source": [
    "table3 = pd.read_csv('./table3.csv')\n",
    "numNotas = table3['Calificación'].size\n",
    "for i in range(0,numNotas-1):\n",
    "    print(table3.at[i, 'Puntaje'])"
   ]
  },
  {
   "cell_type": "code",
   "execution_count": null,
   "metadata": {},
   "outputs": [],
   "source": []
  }
 ],
 "metadata": {
  "kernelspec": {
   "display_name": "Python 3",
   "language": "python",
   "name": "python3"
  },
  "language_info": {
   "codemirror_mode": {
    "name": "ipython",
    "version": 3
   },
   "file_extension": ".py",
   "mimetype": "text/x-python",
   "name": "python",
   "nbconvert_exporter": "python",
   "pygments_lexer": "ipython3",
   "version": "3.7.4-final"
  }
 },
 "nbformat": 4,
 "nbformat_minor": 2
}